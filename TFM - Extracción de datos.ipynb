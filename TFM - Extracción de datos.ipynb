{
 "cells": [
  {
   "cell_type": "code",
   "execution_count": 2,
   "metadata": {},
   "outputs": [],
   "source": [
    "# !pip install kplr\n",
    "# !pip install lightkurve\n",
    "# !pip install --upgrade tensorflow\n",
    "# !pip show tensorflow\n",
    "# !pip install seaborn\n",
    "# !pip install sklearn\n",
    "from numpy.random import seed\n",
    "seed(10)\n",
    "# from tensorflow import set_random_seed\n",
    "# import tensorflow\n",
    "# tensorflow.random.set_seed(10)"
   ]
  },
  {
   "cell_type": "code",
   "execution_count": 4,
   "metadata": {},
   "outputs": [],
   "source": [
    "# Carga de librerias\n",
    "# import kplr\n",
    "import lightkurve as lc\n",
    "import matplotlib.pyplot as plt\n",
    "import numpy as np\n",
    "import os\n",
    "import pandas as pd\n",
    "import seaborn as sn\n",
    "import sklearn\n",
    "\n",
    "from astropy.io import fits\n",
    "# from keras.utils import plot_model\n",
    "# from keras.models import Model\n",
    "# from keras.layers import Input\n",
    "# from keras.layers import Dense\n",
    "# from keras.layers import Flatten\n",
    "# from keras.layers.convolutional import Conv1D\n",
    "# from keras.layers.pooling import MaxPooling1D\n",
    "# from keras.layers.merge import concatenate\n",
    "from lightkurve import search_targetpixelfile\n",
    "from lightkurve import search_lightcurvefile\n",
    "from numpy import sqrt\n",
    "from numpy import argmax\n",
    "from sklearn import metrics\n",
    "from sklearn.model_selection import KFold\n",
    "from sklearn.model_selection import train_test_split\n",
    "from sklearn.metrics import roc_curve\n",
    "from sklearn.metrics import auc\n",
    "from sklearn.metrics import f1_score\n",
    "from sklearn.metrics import matthews_corrcoef\n",
    "from sklearn.metrics import confusion_matrix\n",
    "from sklearn.metrics import accuracy_score\n",
    "from sklearn.metrics import recall_score\n",
    "from sklearn.metrics import average_precision_score"
   ]
  },
  {
   "cell_type": "code",
   "execution_count": null,
   "metadata": {},
   "outputs": [
    {
     "name": "stdout",
     "output_type": "stream",
     "text": [
      "------------------------------------------------------------------\n",
      "row: 0\n",
      "Busco las curvas de luz del exoplaneta Kepler-227 b\n",
      "------------------------------------------------------------------\n",
      "----- VALORES DE period, t0 y duration -----\n",
      "9.48803557\n",
      "170.53875\n",
      "2.9575\n",
      "--------------------------------\n",
      "[ 0 / 9564 ] Descargando fits de  KIC 10797460  -  Kepler-227 b\n",
      "Dimensiones de stitch: (65031,)\n"
     ]
    },
    {
     "name": "stderr",
     "output_type": "stream",
     "text": [
      "c:\\users\\ilaguna\\appdata\\local\\programs\\python\\python38-32\\lib\\site-packages\\lightkurve\\lightcurve.py:698: LightkurveWarning: The light curve already appears to be in relative units; `normalize()` will convert the light curve into relative units for a second time, which is probably not what you want.\n",
      "  warnings.warn(\"The light curve already appears to be in relative \"\n",
      "c:\\users\\ilaguna\\appdata\\local\\programs\\python\\python38-32\\lib\\site-packages\\lightkurve\\lightcurve.py:698: LightkurveWarning: The light curve already appears to be in relative units; `normalize()` will convert the light curve into relative units for a second time, which is probably not what you want.\n",
      "  warnings.warn(\"The light curve already appears to be in relative \"\n"
     ]
    },
    {
     "name": "stdout",
     "output_type": "stream",
     "text": [
      "-> Dimensiones FLUX global (1001,)\n",
      "<lightkurve.lightcurve.FoldedLightCurve object at 0x14AA0EF8>\n",
      "-> Dimensiones FLUX local (101,)\n",
      "------------------------------------------------------------------\n",
      "row: 1\n",
      "Busco las curvas de luz del exoplaneta Kepler-227 c\n",
      "------------------------------------------------------------------\n",
      "----- VALORES DE period, t0 y duration -----\n",
      "54.4183827\n",
      "162.51384\n",
      "4.507\n",
      "--------------------------------\n",
      "[ 1 / 9564 ] Descargando fits de  KIC 10797460  -  Kepler-227 c\n",
      "Dimensiones de stitch: (65031,)\n"
     ]
    },
    {
     "name": "stderr",
     "output_type": "stream",
     "text": [
      "c:\\users\\ilaguna\\appdata\\local\\programs\\python\\python38-32\\lib\\site-packages\\lightkurve\\lightcurve.py:698: LightkurveWarning: The light curve already appears to be in relative units; `normalize()` will convert the light curve into relative units for a second time, which is probably not what you want.\n",
      "  warnings.warn(\"The light curve already appears to be in relative \"\n",
      "c:\\users\\ilaguna\\appdata\\local\\programs\\python\\python38-32\\lib\\site-packages\\lightkurve\\lightcurve.py:698: LightkurveWarning: The light curve already appears to be in relative units; `normalize()` will convert the light curve into relative units for a second time, which is probably not what you want.\n",
      "  warnings.warn(\"The light curve already appears to be in relative \"\n"
     ]
    },
    {
     "name": "stdout",
     "output_type": "stream",
     "text": [
      "-> Dimensiones FLUX global (1001,)\n",
      "<lightkurve.lightcurve.FoldedLightCurve object at 0x261587A8>\n",
      "-> Dimensiones FLUX local (101,)\n",
      "------------------------------------------------------------------\n",
      "row: 2\n",
      "Busco las curvas de luz del exoplaneta nan\n",
      "------------------------------------------------------------------\n",
      "----- VALORES DE period, t0 y duration -----\n",
      "19.89913995\n",
      "175.850252\n",
      "1.7822\n",
      "--------------------------------\n",
      "[ 2 / 9564 ] Descargando fits de  KIC 10811496  -  nan\n",
      "Dimensiones de stitch: (51876,)\n"
     ]
    },
    {
     "name": "stderr",
     "output_type": "stream",
     "text": [
      "c:\\users\\ilaguna\\appdata\\local\\programs\\python\\python38-32\\lib\\site-packages\\lightkurve\\lightcurve.py:698: LightkurveWarning: The light curve already appears to be in relative units; `normalize()` will convert the light curve into relative units for a second time, which is probably not what you want.\n",
      "  warnings.warn(\"The light curve already appears to be in relative \"\n",
      "c:\\users\\ilaguna\\appdata\\local\\programs\\python\\python38-32\\lib\\site-packages\\lightkurve\\lightcurve.py:698: LightkurveWarning: The light curve already appears to be in relative units; `normalize()` will convert the light curve into relative units for a second time, which is probably not what you want.\n",
      "  warnings.warn(\"The light curve already appears to be in relative \"\n"
     ]
    },
    {
     "name": "stdout",
     "output_type": "stream",
     "text": [
      "-> Dimensiones FLUX global (1001,)\n",
      "<lightkurve.lightcurve.FoldedLightCurve object at 0x05EFA340>\n",
      "-> Dimensiones FLUX local (101,)\n",
      "------------------------------------------------------------------\n",
      "row: 3\n",
      "Busco las curvas de luz del exoplaneta nan\n",
      "------------------------------------------------------------------\n",
      "----- VALORES DE period, t0 y duration -----\n",
      "1.7369524530000002\n",
      "170.30756499999998\n",
      "2.4064099999999997\n",
      "--------------------------------\n",
      "[ 3 / 9564 ] Descargando fits de  KIC 10848459  -  nan\n",
      "Dimensiones de stitch: (51722,)\n"
     ]
    },
    {
     "name": "stderr",
     "output_type": "stream",
     "text": [
      "c:\\users\\ilaguna\\appdata\\local\\programs\\python\\python38-32\\lib\\site-packages\\lightkurve\\lightcurve.py:698: LightkurveWarning: The light curve already appears to be in relative units; `normalize()` will convert the light curve into relative units for a second time, which is probably not what you want.\n",
      "  warnings.warn(\"The light curve already appears to be in relative \"\n",
      "c:\\users\\ilaguna\\appdata\\local\\programs\\python\\python38-32\\lib\\site-packages\\lightkurve\\lightcurve.py:698: LightkurveWarning: The light curve already appears to be in relative units; `normalize()` will convert the light curve into relative units for a second time, which is probably not what you want.\n",
      "  warnings.warn(\"The light curve already appears to be in relative \"\n"
     ]
    },
    {
     "name": "stdout",
     "output_type": "stream",
     "text": [
      "-> Dimensiones FLUX global (1001,)\n",
      "<lightkurve.lightcurve.FoldedLightCurve object at 0x05EE5A18>\n",
      "-> Dimensiones FLUX local (101,)\n",
      "------------------------------------------------------------------\n",
      "row: 4\n",
      "Busco las curvas de luz del exoplaneta Kepler-664 b\n",
      "------------------------------------------------------------------\n",
      "----- VALORES DE period, t0 y duration -----\n",
      "2.525591777\n",
      "171.59555\n",
      "1.6545\n",
      "--------------------------------\n",
      "[ 4 / 9564 ] Descargando fits de  KIC 10854555  -  Kepler-664 b\n",
      "Dimensiones de stitch: (63405,)\n"
     ]
    },
    {
     "name": "stderr",
     "output_type": "stream",
     "text": [
      "c:\\users\\ilaguna\\appdata\\local\\programs\\python\\python38-32\\lib\\site-packages\\lightkurve\\lightcurve.py:698: LightkurveWarning: The light curve already appears to be in relative units; `normalize()` will convert the light curve into relative units for a second time, which is probably not what you want.\n",
      "  warnings.warn(\"The light curve already appears to be in relative \"\n",
      "c:\\users\\ilaguna\\appdata\\local\\programs\\python\\python38-32\\lib\\site-packages\\lightkurve\\lightcurve.py:698: LightkurveWarning: The light curve already appears to be in relative units; `normalize()` will convert the light curve into relative units for a second time, which is probably not what you want.\n",
      "  warnings.warn(\"The light curve already appears to be in relative \"\n"
     ]
    },
    {
     "name": "stdout",
     "output_type": "stream",
     "text": [
      "-> Dimensiones FLUX global (1001,)\n",
      "<lightkurve.lightcurve.FoldedLightCurve object at 0x14BDEF10>\n",
      "-> Dimensiones FLUX local (101,)\n",
      "------------------------------------------------------------------\n",
      "row: 5\n",
      "Busco las curvas de luz del exoplaneta Kepler-228 d\n",
      "------------------------------------------------------------------\n",
      "----- VALORES DE period, t0 y duration -----\n",
      "11.09432054\n",
      "171.20116000000002\n",
      "4.5945\n",
      "--------------------------------\n",
      "[ 5 / 9564 ] Descargando fits de  KIC 10872983  -  Kepler-228 d\n",
      "Dimensiones de stitch: (50250,)\n"
     ]
    },
    {
     "name": "stderr",
     "output_type": "stream",
     "text": [
      "c:\\users\\ilaguna\\appdata\\local\\programs\\python\\python38-32\\lib\\site-packages\\lightkurve\\lightcurve.py:698: LightkurveWarning: The light curve already appears to be in relative units; `normalize()` will convert the light curve into relative units for a second time, which is probably not what you want.\n",
      "  warnings.warn(\"The light curve already appears to be in relative \"\n",
      "c:\\users\\ilaguna\\appdata\\local\\programs\\python\\python38-32\\lib\\site-packages\\lightkurve\\lightcurve.py:698: LightkurveWarning: The light curve already appears to be in relative units; `normalize()` will convert the light curve into relative units for a second time, which is probably not what you want.\n",
      "  warnings.warn(\"The light curve already appears to be in relative \"\n"
     ]
    },
    {
     "name": "stdout",
     "output_type": "stream",
     "text": [
      "-> Dimensiones FLUX global (1001,)\n",
      "<lightkurve.lightcurve.FoldedLightCurve object at 0x27C15520>\n",
      "-> Dimensiones FLUX local (101,)\n",
      "------------------------------------------------------------------\n",
      "row: 6\n",
      "Busco las curvas de luz del exoplaneta Kepler-228 c\n",
      "------------------------------------------------------------------\n",
      "----- VALORES DE period, t0 y duration -----\n",
      "4.13443512\n",
      "172.97937\n",
      "3.1402\n",
      "--------------------------------\n",
      "[ 6 / 9564 ] Descargando fits de  KIC 10872983  -  Kepler-228 c\n",
      "Dimensiones de stitch: (50250,)\n"
     ]
    },
    {
     "name": "stderr",
     "output_type": "stream",
     "text": [
      "c:\\users\\ilaguna\\appdata\\local\\programs\\python\\python38-32\\lib\\site-packages\\lightkurve\\lightcurve.py:698: LightkurveWarning: The light curve already appears to be in relative units; `normalize()` will convert the light curve into relative units for a second time, which is probably not what you want.\n",
      "  warnings.warn(\"The light curve already appears to be in relative \"\n",
      "c:\\users\\ilaguna\\appdata\\local\\programs\\python\\python38-32\\lib\\site-packages\\lightkurve\\lightcurve.py:698: LightkurveWarning: The light curve already appears to be in relative units; `normalize()` will convert the light curve into relative units for a second time, which is probably not what you want.\n",
      "  warnings.warn(\"The light curve already appears to be in relative \"\n"
     ]
    },
    {
     "name": "stdout",
     "output_type": "stream",
     "text": [
      "-> Dimensiones FLUX global (1001,)\n",
      "<lightkurve.lightcurve.FoldedLightCurve object at 0x27166BE0>\n",
      "-> Dimensiones FLUX local (101,)\n",
      "------------------------------------------------------------------\n",
      "row: 7\n",
      "Busco las curvas de luz del exoplaneta Kepler-228 b\n",
      "------------------------------------------------------------------\n",
      "----- VALORES DE period, t0 y duration -----\n",
      "2.56658897\n",
      "179.55437\n",
      "2.429\n",
      "--------------------------------\n",
      "[ 7 / 9564 ] Descargando fits de  KIC 10872983  -  Kepler-228 b\n",
      "Dimensiones de stitch: (50250,)\n"
     ]
    },
    {
     "name": "stderr",
     "output_type": "stream",
     "text": [
      "c:\\users\\ilaguna\\appdata\\local\\programs\\python\\python38-32\\lib\\site-packages\\lightkurve\\lightcurve.py:698: LightkurveWarning: The light curve already appears to be in relative units; `normalize()` will convert the light curve into relative units for a second time, which is probably not what you want.\n",
      "  warnings.warn(\"The light curve already appears to be in relative \"\n",
      "c:\\users\\ilaguna\\appdata\\local\\programs\\python\\python38-32\\lib\\site-packages\\lightkurve\\lightcurve.py:698: LightkurveWarning: The light curve already appears to be in relative units; `normalize()` will convert the light curve into relative units for a second time, which is probably not what you want.\n",
      "  warnings.warn(\"The light curve already appears to be in relative \"\n"
     ]
    },
    {
     "name": "stdout",
     "output_type": "stream",
     "text": [
      "-> Dimensiones FLUX global (1001,)\n",
      "<lightkurve.lightcurve.FoldedLightCurve object at 0x261411C0>\n",
      "-> Dimensiones FLUX local (101,)\n",
      "------------------------------------------------------------------\n",
      "row: 8\n",
      "Busco las curvas de luz del exoplaneta nan\n",
      "------------------------------------------------------------------\n",
      "----- VALORES DE period, t0 y duration -----\n",
      "7.36178958\n",
      "132.25053\n",
      "5.022\n",
      "--------------------------------\n",
      "[ 8 / 9564 ] Descargando fits de  KIC 6721123  -  nan\n",
      "Dimensiones de stitch: (65031,)\n"
     ]
    },
    {
     "name": "stderr",
     "output_type": "stream",
     "text": [
      "c:\\users\\ilaguna\\appdata\\local\\programs\\python\\python38-32\\lib\\site-packages\\lightkurve\\lightcurve.py:698: LightkurveWarning: The light curve already appears to be in relative units; `normalize()` will convert the light curve into relative units for a second time, which is probably not what you want.\n",
      "  warnings.warn(\"The light curve already appears to be in relative \"\n",
      "c:\\users\\ilaguna\\appdata\\local\\programs\\python\\python38-32\\lib\\site-packages\\lightkurve\\lightcurve.py:698: LightkurveWarning: The light curve already appears to be in relative units; `normalize()` will convert the light curve into relative units for a second time, which is probably not what you want.\n",
      "  warnings.warn(\"The light curve already appears to be in relative \"\n"
     ]
    },
    {
     "name": "stdout",
     "output_type": "stream",
     "text": [
      "-> Dimensiones FLUX global (1001,)\n",
      "<lightkurve.lightcurve.FoldedLightCurve object at 0x06161868>\n",
      "-> Dimensiones FLUX local (101,)\n",
      "------------------------------------------------------------------\n",
      "row: 9\n",
      "Busco las curvas de luz del exoplaneta Kepler-229 c\n",
      "------------------------------------------------------------------\n",
      "----- VALORES DE period, t0 y duration -----\n",
      "16.06864674\n",
      "173.621937\n",
      "3.5347\n",
      "--------------------------------\n",
      "[ 9 / 9564 ] Descargando fits de  KIC 10910878  -  Kepler-229 c\n",
      "Dimensiones de stitch: (51722,)\n"
     ]
    },
    {
     "name": "stderr",
     "output_type": "stream",
     "text": [
      "c:\\users\\ilaguna\\appdata\\local\\programs\\python\\python38-32\\lib\\site-packages\\lightkurve\\lightcurve.py:698: LightkurveWarning: The light curve already appears to be in relative units; `normalize()` will convert the light curve into relative units for a second time, which is probably not what you want.\n",
      "  warnings.warn(\"The light curve already appears to be in relative \"\n",
      "c:\\users\\ilaguna\\appdata\\local\\programs\\python\\python38-32\\lib\\site-packages\\lightkurve\\lightcurve.py:698: LightkurveWarning: The light curve already appears to be in relative units; `normalize()` will convert the light curve into relative units for a second time, which is probably not what you want.\n",
      "  warnings.warn(\"The light curve already appears to be in relative \"\n"
     ]
    },
    {
     "name": "stdout",
     "output_type": "stream",
     "text": [
      "-> Dimensiones FLUX global (1001,)\n",
      "<lightkurve.lightcurve.FoldedLightCurve object at 0x05EF77C0>\n",
      "-> Dimensiones FLUX local (101,)\n",
      "------------------------------------------------------------------\n",
      "row: 10\n",
      "Busco las curvas de luz del exoplaneta Kepler-1 b\n",
      "------------------------------------------------------------------\n",
      "----- VALORES DE period, t0 y duration -----\n",
      "2.470613377\n",
      "122.763305\n",
      "1.7431900000000002\n",
      "--------------------------------\n",
      "[ 10 / 9564 ] Descargando fits de  KIC 11446443  -  Kepler-1 b\n",
      "Dimensiones de stitch: (52195,)\n"
     ]
    },
    {
     "name": "stderr",
     "output_type": "stream",
     "text": [
      "c:\\users\\ilaguna\\appdata\\local\\programs\\python\\python38-32\\lib\\site-packages\\lightkurve\\lightcurve.py:698: LightkurveWarning: The light curve already appears to be in relative units; `normalize()` will convert the light curve into relative units for a second time, which is probably not what you want.\n",
      "  warnings.warn(\"The light curve already appears to be in relative \"\n",
      "c:\\users\\ilaguna\\appdata\\local\\programs\\python\\python38-32\\lib\\site-packages\\lightkurve\\lightcurve.py:1252: RuntimeWarning: More than 20 figures have been opened. Figures created through the pyplot interface (`matplotlib.pyplot.figure`) are retained until explicitly closed and may consume too much memory. (To control this warning, see the rcParam `figure.max_open_warning`).\n",
      "  fig, ax = plt.subplots(1)\n",
      "c:\\users\\ilaguna\\appdata\\local\\programs\\python\\python38-32\\lib\\site-packages\\lightkurve\\lightcurve.py:698: LightkurveWarning: The light curve already appears to be in relative units; `normalize()` will convert the light curve into relative units for a second time, which is probably not what you want.\n",
      "  warnings.warn(\"The light curve already appears to be in relative \"\n"
     ]
    },
    {
     "name": "stdout",
     "output_type": "stream",
     "text": [
      "-> Dimensiones FLUX global (1001,)\n",
      "<lightkurve.lightcurve.FoldedLightCurve object at 0x27BF8B50>\n",
      "-> Dimensiones FLUX local (101,)\n",
      "------------------------------------------------------------------\n",
      "row: 11\n",
      "Busco las curvas de luz del exoplaneta Kepler-2 b\n",
      "------------------------------------------------------------------\n",
      "----- VALORES DE period, t0 y duration -----\n",
      "2.2047354169999998\n",
      "121.35854170000002\n",
      "3.88864\n",
      "--------------------------------\n",
      "[ 11 / 9564 ] Descargando fits de  KIC 10666592  -  Kepler-2 b\n",
      "Dimensiones de stitch: (65504,)\n"
     ]
    },
    {
     "name": "stderr",
     "output_type": "stream",
     "text": [
      "c:\\users\\ilaguna\\appdata\\local\\programs\\python\\python38-32\\lib\\site-packages\\lightkurve\\lightcurve.py:698: LightkurveWarning: The light curve already appears to be in relative units; `normalize()` will convert the light curve into relative units for a second time, which is probably not what you want.\n",
      "  warnings.warn(\"The light curve already appears to be in relative \"\n",
      "c:\\users\\ilaguna\\appdata\\local\\programs\\python\\python38-32\\lib\\site-packages\\lightkurve\\lightcurve.py:698: LightkurveWarning: The light curve already appears to be in relative units; `normalize()` will convert the light curve into relative units for a second time, which is probably not what you want.\n",
      "  warnings.warn(\"The light curve already appears to be in relative \"\n"
     ]
    },
    {
     "name": "stdout",
     "output_type": "stream",
     "text": [
      "-> Dimensiones FLUX global (1001,)\n",
      "<lightkurve.lightcurve.FoldedLightCurve object at 0x05EB2C28>\n",
      "-> Dimensiones FLUX local (101,)\n",
      "------------------------------------------------------------------\n",
      "row: 12\n",
      "Busco las curvas de luz del exoplaneta Kepler-8 b\n",
      "------------------------------------------------------------------\n",
      "----- VALORES DE period, t0 y duration -----\n",
      "3.5224984289999997\n",
      "121.1194228\n",
      "3.19843\n",
      "--------------------------------\n",
      "[ 12 / 9564 ] Descargando fits de  KIC 6922244  -  Kepler-8 b\n",
      "Dimensiones de stitch: (65504,)\n"
     ]
    },
    {
     "name": "stderr",
     "output_type": "stream",
     "text": [
      "c:\\users\\ilaguna\\appdata\\local\\programs\\python\\python38-32\\lib\\site-packages\\lightkurve\\lightcurve.py:698: LightkurveWarning: The light curve already appears to be in relative units; `normalize()` will convert the light curve into relative units for a second time, which is probably not what you want.\n",
      "  warnings.warn(\"The light curve already appears to be in relative \"\n",
      "c:\\users\\ilaguna\\appdata\\local\\programs\\python\\python38-32\\lib\\site-packages\\lightkurve\\lightcurve.py:698: LightkurveWarning: The light curve already appears to be in relative units; `normalize()` will convert the light curve into relative units for a second time, which is probably not what you want.\n",
      "  warnings.warn(\"The light curve already appears to be in relative \"\n"
     ]
    },
    {
     "name": "stdout",
     "output_type": "stream",
     "text": [
      "-> Dimensiones FLUX global (1001,)\n",
      "<lightkurve.lightcurve.FoldedLightCurve object at 0x05E83358>\n",
      "-> Dimensiones FLUX local (101,)\n",
      "------------------------------------------------------------------\n",
      "row: 13\n",
      "Busco las curvas de luz del exoplaneta Kepler-466 c\n",
      "------------------------------------------------------------------\n",
      "----- VALORES DE period, t0 y duration -----\n",
      "3.709214104\n",
      "133.98318\n",
      "2.6302\n",
      "--------------------------------\n",
      "[ 13 / 9564 ] Descargando fits de  KIC 10984090  -  Kepler-466 c\n"
     ]
    }
   ],
   "source": [
    "# df = pd.read_csv('dataset_koi.csv', sep = ';', header=None, skiprows=1)\n",
    "# df.head()\n",
    "\n",
    "df = pd.read_csv(\"C:/Users/ilaguna/Desktop/Personal/Master-IA/TFM/dataset_koi.csv\", sep = ',')\n",
    "# client = kplr.API()\n",
    "\n",
    "kepoi_folder = \"C:/Users/ilaguna/Desktop/Personal/Master-IA/TFM\"\n",
    "kepoi_file_global = kepoi_folder + \"/\" + \"global.csv\"\n",
    "kepoi_file_local = kepoi_folder + \"/\" + \"local.csv\"\n",
    "\n",
    "if not os.path.exists(kepoi_folder):\n",
    "  os.makedirs(kepoi_folder)\n",
    "\n",
    "headers_global = [\"KOI_ID\", \"Label\"]\n",
    "headers_local = [\"KOI_ID\", \"Label\"]\n",
    "for i in range(1, 1002):\n",
    "  headers_global.append(\"Flux-\" + str(i))\n",
    "for i in range(1, 102):\n",
    "  headers_local.append(\"Flux-\" + str(i))\n",
    "\n",
    "df_global = pd.DataFrame(columns=headers_global)\n",
    "df_local = pd.DataFrame(columns=headers_local)\n",
    "\n",
    "# print(\"--------------------------- PINTAMOS CABECERAS LOCALES ---------------------------\")\n",
    "# print(df_local)\n",
    "# print(df)\n",
    "\n",
    "# Lectura de datos y obtención de las curvas de luz para cada exoplaneta\n",
    "for row in df.index:\n",
    "  # if not pd.isnull(df.kepler_name[row]): \n",
    "  # if df.kepler_name[row] == 'Kepler-227 c':\n",
    "    print(\"------------------------------------------------------------------\")\n",
    "    print(\"row: \" + str(row))\n",
    "    print(\"Busco las curvas de luz del exoplaneta \" + str(df.kepler_name[row]))\n",
    "    print(\"------------------------------------------------------------------\")\n",
    "\n",
    "    try:\n",
    "      # planet_data = client.planet(df.kepler_name[row])\n",
    "      # period, t0, duration_hours = planet_data.koi_period, planet_data.koi_time0bk, planet_data.koi_duration\n",
    "      # print(\"-------------------------------- DATOS POR PLANETA --------------------------------\")\n",
    "      # tmp_period = float(df.koi_period[row].replace(\".\", \"\"))\n",
    "      # period = round((tmp_period/1000000000), 3)\n",
    "    \n",
    "      # tmp_t0 = float(df.koi_time0bk[row].replace(\".\", \"\"))\n",
    "      # t0 = round((tmp_t0/10000000), 3)\n",
    "    \n",
    "      # duration_hours = round((float(df.koi_duration[row])/100), 3)\n",
    "    \n",
    "      # print(\"period: \" + str(period))\n",
    "      # print(\"t0: \" + str(t0))\n",
    "      # print(\"duration_hours: \" + str(duration_hours))\n",
    "      # print(\"-----------------------------------------------------------------------------------\")\n",
    "    \n",
    "      print(\"----- VALORES DE period, t0 y duration -----\")\n",
    "      period = df.koi_period[row]\n",
    "      t0 = df.koi_time0bk[row]\n",
    "      duration_hours = df.koi_duration[row]\n",
    "      print(period)\n",
    "      print(t0)\n",
    "      print(duration_hours)\n",
    "      print(\"--------------------------------\")\n",
    "\n",
    "      kic = \"KIC \" + str(df.kepid[row])\n",
    "      print(\"[\",row,\"/\", len_df_koi,\"] Descargando fits de \", kic, \" - \", df.kepler_name[row])\n",
    "      # lc = lc.search_lightcurvefile(df.kepler_name[row], mission=\"KEPLER\").download_all()\n",
    "      tmp_lc = lc.search_lightcurvefile(kic, mission='Kepler').download_all()\n",
    "\n",
    "      # Control para casos con varios targets \n",
    "      dict_klc = {}\n",
    "      for item in tmp_lc.PDCSAP_FLUX:\n",
    "          if item.targetid not in dict_klc.keys():\n",
    "              dict_klc[item.targetid] = [item]\n",
    "          else:\n",
    "              dict_klc[item.targetid].append(item)\n",
    "\n",
    "      collection = lc.LightCurveCollection(next(iter(dict_klc.values())))\n",
    "\n",
    "      # Union de los flujos estelares obtenidos de la curva de luz para generar las imagenes\n",
    "      # Se utiliza el flujo PDCSAP porque suele ser datos más limpios que el flujo SAP y tendrá menos tendencias sistemáticas.\n",
    "      lc_stitch = collection.stitch()\n",
    "      print(\"Dimensiones de stitch: \" + str(lc_stitch.flux.shape))\n",
    "      # lc_stitch.plot()\n",
    "\n",
    "      # Eliminacion de anomalías\n",
    "      lc_cleaned = lc_stitch.remove_outliers(sigma=20, sigma_upper=4)\n",
    "      # lc_cleaned.plot()\n",
    "\n",
    "      # Pliegue de la curva de luz para un periodo y t0 (hora central del transito) específicos\n",
    "      temp_fold = lc_cleaned.fold(period, t0=t0)\n",
    "      fractional_duration = (duration_hours / 24.0) / period\n",
    "      phase_mask = np.abs(temp_fold.phase) < (fractional_duration * 1.5)\n",
    "      transit_mask = np.in1d(lc_cleaned.time, temp_fold.time_original[phase_mask])\n",
    "\n",
    "      # Aplanado de la curva de luz\n",
    "      lc_flat, trend_lc = lc_cleaned.flatten(return_trend=True, mask=transit_mask)\n",
    "\n",
    "      # Pliegue de la curva ya aplanada\n",
    "      lc_fold = lc_flat.fold(period, t0=t0)\n",
    "      # lc_fold.plot()\n",
    "\n",
    "      # Se aplica filtro de mediana y normalizacion\n",
    "      # Cambio del bin, y se elimina normalize, porque ya estaba normalizado\n",
    "      # lc_global = lc_fold.bin(bins=1001, method='median') - 1\n",
    "      # lc_global = (lc_global / np.abs(lc_global.flux.min()) ) * 2.0 + 1\n",
    "      # print(\"Dimensiones de global: \" + str(lc_global.flux.shape))\n",
    "\n",
    "      lc_global = lc_fold.bin(bins=1001, method='median').normalize() - 1\n",
    "      lc_global = (lc_global / np.abs(lc_global.flux.min()) ) * 2.0 + 1\n",
    "      print(\"-> Dimensiones FLUX global\", lc_global.flux.shape)\n",
    "\n",
    "      lc_global.scatter();\n",
    "\n",
    "      # Calculo de fase\n",
    "      phase_mask = (lc_fold.phase > -4*fractional_duration) & (lc_fold.phase < 4.0*fractional_duration)\n",
    "      lc_zoom = lc_fold[phase_mask]\n",
    "\n",
    "      # Se aplica filtro de mediana y normalizacion\n",
    "      # Cambio del bin, y se elimina normalize, porque ya estaba normalizado\n",
    "      # lc_local = lc_zoom.bin(bins=101, method='median') -1\n",
    "      # lc_local = (lc_local / np.abs(lc_local.flux.min()) ) * 2.0 + 1\n",
    "      # print(\"Dimensiones de local: \" + str(lc_local.flux.shape))\n",
    "\n",
    "      lc_local = lc_zoom.bin(bins=101, method='median').normalize() -1\n",
    "      print(lc_local)\n",
    "      lc_local = (lc_local / np.abs(lc_local.flux.min()) ) * 2.0 + 1\n",
    "      print(\"-> Dimensiones FLUX local\", lc_local.flux.shape)\n",
    "\n",
    "      lc_local.scatter();\n",
    "\n",
    "      label = \"1\" if (df.koi_disposition[row] == 'CONFIRMED' and df.koi_pdisposition[row] == 'CANDIDATE') else \"0\"\n",
    "\n",
    "      tmp_global = [df.kepid[row], label]\n",
    "      tmp_local = [df.kepid[row], label]\n",
    "      array_global = np.concatenate([tmp_global, lc_global.flux])\n",
    "      array_local = np.concatenate([tmp_local, lc_local.flux])\n",
    "      df_global.loc[row] = array_global\n",
    "      df_local.loc[row] = array_local\n",
    "    \n",
    "    except Exception:\n",
    "      print(\"Error with planet \" + str(df.kepler_name[row]))\n",
    "      pass  \n",
    "\n",
    "\n",
    "pd.DataFrame(df_global).to_csv(kepoi_file_global)\n",
    "pd.DataFrame(df_local).to_csv(kepoi_file_local)\n",
    "\n",
    "print(\"-------- FIN --------\")"
   ]
  },
  {
   "cell_type": "code",
   "execution_count": 23,
   "metadata": {
    "scrolled": false
   },
   "outputs": [
    {
     "name": "stdout",
     "output_type": "stream",
     "text": [
      "-------- FIN --------\n"
     ]
    }
   ],
   "source": [
    "import pandas as pd\n",
    "# Generamos parametros estelares para los exoplanetas descargados\n",
    "df_koi = pd.read_csv(\"C:/Users/ilaguna/Desktop/dataset_koi.csv\", sep = ';')\n",
    "df_local = pd.read_csv(\"C:/Users/ilaguna/Desktop/local_data.csv\", sep = ';')\n",
    "df_stellar_parameters = pd.DataFrame(columns = ['KOI_ID', 'Label', 'koi_steff', 'koi_slogg', 'koi_smet', 'koi_srad', 'koi_smass'])\n",
    "\n",
    "kepoi_folder = \"C:/Users/ilaguna/Desktop\"\n",
    "kepoi_file_stellar_parameters = kepoi_folder + \"/\" + \"stellar_parameters.csv\"\n",
    "\n",
    "for row in df_local.index:    \n",
    "    new_row = [df_local.KOI_ID[row], df_local.Label[row], koi['koi_steff'].values[0], koi['koi_slogg'].values[0], koi['koi_smet'].values[0], koi['koi_srad'].values[0], koi['koi_smass'].values[0]]\n",
    "    # new_df = pd.DataFrame(new_row, columns = ['KOI_ID', 'Label', 'koi_steff', 'koi_slogg', 'koi_smet', 'koi_srad', 'koi_smass'])\n",
    "    # df_stellar_parameters = df_stellar_parameters.append(new_df, ignore_index=True)\n",
    "    df_stellar_parameters.loc[row] = new_row\n",
    "    \n",
    "print(\"-------- FIN --------\")\n",
    "pd.DataFrame(df_stellar_parameters).to_csv(kepoi_file_stellar_parameters)"
   ]
  },
  {
   "cell_type": "code",
   "execution_count": null,
   "metadata": {},
   "outputs": [],
   "source": []
  }
 ],
 "metadata": {
  "kernelspec": {
   "display_name": "Python 3",
   "language": "python",
   "name": "python3"
  },
  "language_info": {
   "codemirror_mode": {
    "name": "ipython",
    "version": 3
   },
   "file_extension": ".py",
   "mimetype": "text/x-python",
   "name": "python",
   "nbconvert_exporter": "python",
   "pygments_lexer": "ipython3",
   "version": "3.8.2"
  }
 },
 "nbformat": 4,
 "nbformat_minor": 4
}
