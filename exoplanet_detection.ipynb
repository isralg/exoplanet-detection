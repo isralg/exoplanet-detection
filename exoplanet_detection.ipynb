{
  "nbformat": 4,
  "nbformat_minor": 0,
  "metadata": {
    "colab": {
      "name": "exoplanet_detection.ipynb",
      "provenance": [],
      "collapsed_sections": [
        "EFy8M7k4Um1E"
      ]
    },
    "kernelspec": {
      "name": "python3",
      "display_name": "Python 3"
    }
  },
  "cells": [
    {
      "cell_type": "markdown",
      "metadata": {
        "id": "pjpQxWsRU5Lr"
      },
      "source": [
        "## **Instalación de paquetes y librerías**\n",
        "\n",
        "\n"
      ]
    },
    {
      "cell_type": "code",
      "metadata": {
        "id": "d6xGO-UBU3sh"
      },
      "source": [
        "# !pip install kplr\n",
        "# !pip install lightkurve\n",
        "# !pip install --upgrade tensorflow\n",
        "# !pip show tensorflow\n",
        "from numpy.random import seed\n",
        "seed(10)\n",
        "# from tensorflow import set_random_seed\n",
        "import tensorflow\n",
        "tensorflow.random.set_seed(10)"
      ],
      "execution_count": 2,
      "outputs": []
    },
    {
      "cell_type": "code",
      "metadata": {
        "id": "E59kuvIoXHEn"
      },
      "source": [
        "# Carga de librerias\n",
        "# import kplr\n",
        "import lightkurve as lc\n",
        "import matplotlib.pyplot as plt\n",
        "import numpy as np\n",
        "import os\n",
        "import pandas as pd\n",
        "import seaborn as sn\n",
        "import sklearn\n",
        "\n",
        "from astropy.io import fits\n",
        "from keras.utils import plot_model\n",
        "from keras.models import Model\n",
        "from keras.layers import Input\n",
        "from keras.layers import Dense\n",
        "from keras.layers import Flatten\n",
        "from keras.layers.convolutional import Conv1D\n",
        "from keras.layers.pooling import MaxPooling1D\n",
        "from keras.layers.merge import concatenate\n",
        "from lightkurve import search_targetpixelfile\n",
        "from lightkurve import search_lightcurvefile\n",
        "from numpy import sqrt\n",
        "from numpy import argmax\n",
        "from sklearn import metrics\n",
        "from sklearn.model_selection import KFold\n",
        "from sklearn.model_selection import train_test_split\n",
        "from sklearn.metrics import roc_curve\n",
        "from sklearn.metrics import auc\n",
        "from sklearn.metrics import f1_score\n",
        "from sklearn.metrics import matthews_corrcoef\n",
        "from sklearn.metrics import confusion_matrix\n",
        "from sklearn.metrics import accuracy_score\n",
        "from sklearn.metrics import recall_score\n",
        "from sklearn.metrics import average_precision_score"
      ],
      "execution_count": 3,
      "outputs": []
    },
    {
      "cell_type": "code",
      "metadata": {
        "id": "AVVTQr7NAT2I"
      },
      "source": [
        "# Code to read csv file into Colaboratory:!pip install -U -q PyDrive\n",
        "from pydrive.auth import GoogleAuth\n",
        "from pydrive.drive import GoogleDrive\n",
        "from google.colab import auth\n",
        "from oauth2client.client import GoogleCredentials# Authenticate and create the PyDrive client.\n",
        "auth.authenticate_user()\n",
        "gauth = GoogleAuth()\n",
        "gauth.credentials = GoogleCredentials.get_application_default()\n",
        "drive = GoogleDrive(gauth)"
      ],
      "execution_count": 4,
      "outputs": []
    },
    {
      "cell_type": "markdown",
      "metadata": {
        "id": "Dc-8ng9fcfbW"
      },
      "source": [
        "## **Subida de fichero KOI descargado de la web**"
      ]
    },
    {
      "cell_type": "code",
      "metadata": {
        "id": "vM8NfC5ScoS-",
        "outputId": "e909994f-f082-4350-9921-1ddf1e904c22",
        "colab": {
          "resources": {
            "http://localhost:8080/nbextensions/google.colab/files.js": {
              "data": "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",
              "ok": true,
              "headers": [
                [
                  "content-type",
                  "application/javascript"
                ]
              ],
              "status": 200,
              "status_text": ""
            }
          },
          "base_uri": "https://localhost:8080/",
          "height": 73
        }
      },
      "source": [
        "from google.colab import files\n",
        "uploaded = files.upload()"
      ],
      "execution_count": 6,
      "outputs": [
        {
          "output_type": "display_data",
          "data": {
            "text/html": [
              "\n",
              "     <input type=\"file\" id=\"files-35319d87-af75-4bc3-b5b9-dbae096d4631\" name=\"files[]\" multiple disabled\n",
              "        style=\"border:none\" />\n",
              "     <output id=\"result-35319d87-af75-4bc3-b5b9-dbae096d4631\">\n",
              "      Upload widget is only available when the cell has been executed in the\n",
              "      current browser session. Please rerun this cell to enable.\n",
              "      </output>\n",
              "      <script src=\"/nbextensions/google.colab/files.js\"></script> "
            ],
            "text/plain": [
              "<IPython.core.display.HTML object>"
            ]
          },
          "metadata": {
            "tags": []
          }
        },
        {
          "output_type": "stream",
          "text": [
            "Saving stellar_parameters_data_cleaned.csv to stellar_parameters_data_cleaned.csv\n"
          ],
          "name": "stdout"
        }
      ]
    },
    {
      "cell_type": "markdown",
      "metadata": {
        "id": "EFy8M7k4Um1E"
      },
      "source": [
        "## **Procesado y limpieza de datos**"
      ]
    },
    {
      "cell_type": "code",
      "metadata": {
        "id": "trpb50SKUreT"
      },
      "source": [
        "# df = pd.read_csv('dataset_koi.csv', sep = ';', header=None, skiprows=1)\n",
        "# df.head()\n",
        "\n",
        "df = pd.read_csv ('dataset_koi.csv', sep = ';')\n",
        "len_df_koi = len(df)\n",
        "client = kplr.API()\n",
        "\n",
        "kepoi_folder = \"./lightkurve\"\n",
        "kepoi_file_global = kepoi_folder + \"/\" + \"global.csv\"\n",
        "kepoi_file_local = kepoi_folder + \"/\" + \"local.csv\"\n",
        "\n",
        "if not os.path.exists(kepoi_folder):\n",
        "  os.makedirs(kepoi_folder)\n",
        "\n",
        "headers_global = [\"KOI ID\", \"Label\"]\n",
        "headers_local = [\"KOI ID\", \"Label\"]\n",
        "for i in range(1, 1002):\n",
        "  headers_global.append(\"Flux-\" + str(i))\n",
        "for i in range(1, 102):\n",
        "  headers_local.append(\"Flux-\" + str(i))\n",
        "\n",
        "df_global = pd.DataFrame(columns=headers_global)\n",
        "df_local = pd.DataFrame(columns=headers_local)\n",
        "\n",
        "print(\"--------------------------- PINTAMOS CABECERAS LOCALES ---------------------------\")\n",
        "print(df_local)\n",
        "print(df)\n",
        "\n",
        "# Lectura de datos y obtención de las curvas de luz para cada exoplaneta\n",
        "for row in df.index:\n",
        "  if not pd.isnull(df.kepler_name[row]): \n",
        "  # if df.kepler_name[row] == 'Kepler-672 b':\n",
        "    print(\"------------------------------------------------------------------\")\n",
        "    print(\"row: \" + str(row))\n",
        "    print(\"Busco las curvas de luz del exoplaneta \" + str(df.kepler_name[row]))\n",
        "    print(\"------------------------------------------------------------------\")\n",
        "\n",
        "    try:\n",
        "      planet_data = client.planet(df.kepler_name[row])\n",
        "      period, t0, duration_hours = planet_data.koi_period, planet_data.koi_time0bk, planet_data.koi_duration\n",
        "      print(\"-------------------------------- DATOS POR PLANETA --------------------------------\")\n",
        "      print(\"period: \" + str(period))\n",
        "      print(\"t0: \" + str(t0))\n",
        "      print(\"duration_hours: \" + str(duration_hours))\n",
        "      print(\"-----------------------------------------------------------------------------------\")\n",
        "\n",
        "      kic = \"KIC \" + str(df.kepid[row])\n",
        "      print(\"[\",row,\"/\", len_df_koi,\"] Descargando fits de \", kic, \" - \", df.kepler_name[row])\n",
        "      # lc = lc.search_lightcurvefile(df.kepler_name[row], mission=\"KEPLER\").download_all()\n",
        "      tmp_lc = lc.search_lightcurvefile(kic, mission='Kepler').download_all()\n",
        "\n",
        "      # Contro para casos con varios targets \n",
        "      dict_klc = {}\n",
        "      for item in tmp_lc.PDCSAP_FLUX:\n",
        "          if item.targetid not in dict_klc.keys():\n",
        "              dict_klc[item.targetid] = [item]\n",
        "          else:\n",
        "              dict_klc[item.targetid].append(item)\n",
        "\n",
        "      collection = lc.LightCurveCollection(next(iter(dict_klc.values())))\n",
        "\n",
        "      # Union de los flujos estelares obtenidos de la curva de luz para generar las imagenes\n",
        "      # Se utiliza el flujo PDCSAP porque suele ser datos más limpios que el flujo SAP y tendrá menos tendencias sistemáticas.\n",
        "      lc_stitch = collection.stitch()\n",
        "      print(\"Dimensiones de stitch: \" + str(lc_stitch.flux.shape))\n",
        "      lc_stitch.plot()\n",
        "\n",
        "      # Eliminacion de anomalías\n",
        "      lc_cleaned = lc_stitch.remove_outliers(sigma=20, sigma_upper=4)\n",
        "      lc_cleaned.plot()\n",
        "\n",
        "      # Pliegue de la curva de luz para un periodo y t0 (hora central del transito) específicos\n",
        "      temp_fold = lc_cleaned.fold(period, t0=t0)\n",
        "      fractional_duration = (duration_hours / 24.0) / period\n",
        "      phase_mask = np.abs(temp_fold.phase) < (fractional_duration * 1.5)\n",
        "      transit_mask = np.in1d(lc_cleaned.time, temp_fold.time_original[phase_mask])\n",
        "\n",
        "      # Aplanado de la curva de luz\n",
        "      lc_flat, trend_lc = lc_cleaned.flatten(return_trend=True, mask=transit_mask)\n",
        "\n",
        "      # Pliegue de la curva ya aplanada\n",
        "      lc_fold = lc_flat.fold(period, t0=t0)\n",
        "      lc_fold.plot()\n",
        "\n",
        "      # Se aplica filtro de mediana y normalizacion\n",
        "      # Cambio del bin, y se elimina normalize, porque ya estaba normalizado\n",
        "      # lc_global = lc_fold.bin(bins=1001, method='median') - 1\n",
        "      # lc_global = (lc_global / np.abs(lc_global.flux.min()) ) * 2.0 + 1\n",
        "      # print(\"Dimensiones de global: \" + str(lc_global.flux.shape))\n",
        "\n",
        "      lc_global = lc_fold.bin(bins=1001, method='median').normalize() - 1\n",
        "      lc_global = (lc_global / np.abs(lc_global.flux.min()) ) * 2.0 + 1\n",
        "      print(\"-> Dimensiones FLUX global\", lc_global.flux.shape)\n",
        "\n",
        "      lc_global.scatter();\n",
        "\n",
        "      # Calculo de fase\n",
        "      phase_mask = (lc_fold.phase > -4*fractional_duration) & (lc_fold.phase < 4.0*fractional_duration)\n",
        "      lc_zoom = lc_fold[phase_mask]\n",
        "\n",
        "      # Se aplica filtro de mediana y normalizacion\n",
        "      # Cambio del bin, y se elimina normalize, porque ya estaba normalizado\n",
        "      # lc_local = lc_zoom.bin(bins=101, method='median') -1\n",
        "      # lc_local = (lc_local / np.abs(lc_local.flux.min()) ) * 2.0 + 1\n",
        "      # print(\"Dimensiones de local: \" + str(lc_local.flux.shape))\n",
        "\n",
        "      lc_local = lc_zoom.bin(bins=101, method='median').normalize() -1\n",
        "      lc_local = (lc_local / np.abs(lc_local.flux.min()) ) * 2.0 + 1\n",
        "      print(\"-> Dimensiones FLUX local\", lc_local.flux.shape)\n",
        "\n",
        "      lc_local.scatter();\n",
        "\n",
        "      label = 1 if (df.koi_disposition[row] == 'CONFIRMED' and df.koi_pdisposition[row] == 'CANDIDATE') else 0\n",
        "\n",
        "      tmp_global = [df.kepid[row], label]\n",
        "      tmp_local = [df.kepid[row], label]\n",
        "      array_global = np.concatenate([tmp_global, lc_global.flux])\n",
        "      array_local = np.concatenate([tmp_local, lc_local.flux])\n",
        "      df_global.loc[row] = array_global\n",
        "      df_local.loc[row] = array_local\n",
        "    \n",
        "    except Exception:\n",
        "      print(\"Error with planet \" + df.kepler_name[row])\n",
        "      pass  \n",
        "\n",
        "\n",
        "pd.DataFrame(df_global).to_csv(kepoi_file_global)\n",
        "pd.DataFrame(df_local).to_csv(kepoi_file_local)\n",
        "\n",
        "print(df_local)"
      ],
      "execution_count": null,
      "outputs": []
    },
    {
      "cell_type": "code",
      "metadata": {
        "id": "_srzdzhfmskf",
        "outputId": "a7503208-6450-4b76-bf6d-acfcb811a463",
        "colab": {
          "resources": {
            "http://localhost:8080/nbextensions/google.colab/files.js": {
              "data": "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",
              "ok": true,
              "headers": [
                [
                  "content-type",
                  "application/javascript"
                ]
              ],
              "status": 200,
              "status_text": "OK"
            }
          },
          "base_uri": "https://localhost:8080/",
          "height": 360
        }
      },
      "source": [
        "from google.colab import files\n",
        "uploaded = files.upload()"
      ],
      "execution_count": null,
      "outputs": [
        {
          "output_type": "display_data",
          "data": {
            "text/html": [
              "\n",
              "     <input type=\"file\" id=\"files-82568aa1-c0bb-44a7-a2b6-21ca2ca2bd39\" name=\"files[]\" multiple disabled\n",
              "        style=\"border:none\" />\n",
              "     <output id=\"result-82568aa1-c0bb-44a7-a2b6-21ca2ca2bd39\">\n",
              "      Upload widget is only available when the cell has been executed in the\n",
              "      current browser session. Please rerun this cell to enable.\n",
              "      </output>\n",
              "      <script src=\"/nbextensions/google.colab/files.js\"></script> "
            ],
            "text/plain": [
              "<IPython.core.display.HTML object>"
            ]
          },
          "metadata": {
            "tags": []
          }
        },
        {
          "output_type": "error",
          "ename": "KeyboardInterrupt",
          "evalue": "ignored",
          "traceback": [
            "\u001b[0;31m---------------------------------------------------------------------------\u001b[0m",
            "\u001b[0;31mKeyboardInterrupt\u001b[0m                         Traceback (most recent call last)",
            "\u001b[0;32m<ipython-input-4-21dc3c638f66>\u001b[0m in \u001b[0;36m<module>\u001b[0;34m()\u001b[0m\n\u001b[1;32m      1\u001b[0m \u001b[0;32mfrom\u001b[0m \u001b[0mgoogle\u001b[0m\u001b[0;34m.\u001b[0m\u001b[0mcolab\u001b[0m \u001b[0;32mimport\u001b[0m \u001b[0mfiles\u001b[0m\u001b[0;34m\u001b[0m\u001b[0;34m\u001b[0m\u001b[0m\n\u001b[0;32m----> 2\u001b[0;31m \u001b[0muploaded\u001b[0m \u001b[0;34m=\u001b[0m \u001b[0mfiles\u001b[0m\u001b[0;34m.\u001b[0m\u001b[0mupload\u001b[0m\u001b[0;34m(\u001b[0m\u001b[0;34m)\u001b[0m\u001b[0;34m\u001b[0m\u001b[0;34m\u001b[0m\u001b[0m\n\u001b[0m",
            "\u001b[0;32m/usr/local/lib/python3.6/dist-packages/google/colab/files.py\u001b[0m in \u001b[0;36mupload\u001b[0;34m()\u001b[0m\n\u001b[1;32m     62\u001b[0m   result = _output.eval_js(\n\u001b[1;32m     63\u001b[0m       'google.colab._files._uploadFiles(\"{input_id}\", \"{output_id}\")'.format(\n\u001b[0;32m---> 64\u001b[0;31m           input_id=input_id, output_id=output_id))\n\u001b[0m\u001b[1;32m     65\u001b[0m   \u001b[0mfiles\u001b[0m \u001b[0;34m=\u001b[0m \u001b[0m_collections\u001b[0m\u001b[0;34m.\u001b[0m\u001b[0mdefaultdict\u001b[0m\u001b[0;34m(\u001b[0m\u001b[0m_six\u001b[0m\u001b[0;34m.\u001b[0m\u001b[0mbinary_type\u001b[0m\u001b[0;34m)\u001b[0m\u001b[0;34m\u001b[0m\u001b[0;34m\u001b[0m\u001b[0m\n\u001b[1;32m     66\u001b[0m   \u001b[0;31m# Mapping from original filename to filename as saved locally.\u001b[0m\u001b[0;34m\u001b[0m\u001b[0;34m\u001b[0m\u001b[0;34m\u001b[0m\u001b[0m\n",
            "\u001b[0;32m/usr/local/lib/python3.6/dist-packages/google/colab/output/_js.py\u001b[0m in \u001b[0;36meval_js\u001b[0;34m(script, ignore_result)\u001b[0m\n\u001b[1;32m     37\u001b[0m   \u001b[0;32mif\u001b[0m \u001b[0mignore_result\u001b[0m\u001b[0;34m:\u001b[0m\u001b[0;34m\u001b[0m\u001b[0;34m\u001b[0m\u001b[0m\n\u001b[1;32m     38\u001b[0m     \u001b[0;32mreturn\u001b[0m\u001b[0;34m\u001b[0m\u001b[0;34m\u001b[0m\u001b[0m\n\u001b[0;32m---> 39\u001b[0;31m   \u001b[0;32mreturn\u001b[0m \u001b[0m_message\u001b[0m\u001b[0;34m.\u001b[0m\u001b[0mread_reply_from_input\u001b[0m\u001b[0;34m(\u001b[0m\u001b[0mrequest_id\u001b[0m\u001b[0;34m)\u001b[0m\u001b[0;34m\u001b[0m\u001b[0;34m\u001b[0m\u001b[0m\n\u001b[0m\u001b[1;32m     40\u001b[0m \u001b[0;34m\u001b[0m\u001b[0m\n\u001b[1;32m     41\u001b[0m \u001b[0;34m\u001b[0m\u001b[0m\n",
            "\u001b[0;32m/usr/local/lib/python3.6/dist-packages/google/colab/_message.py\u001b[0m in \u001b[0;36mread_reply_from_input\u001b[0;34m(message_id, timeout_sec)\u001b[0m\n\u001b[1;32m     99\u001b[0m     \u001b[0mreply\u001b[0m \u001b[0;34m=\u001b[0m \u001b[0m_read_next_input_message\u001b[0m\u001b[0;34m(\u001b[0m\u001b[0;34m)\u001b[0m\u001b[0;34m\u001b[0m\u001b[0;34m\u001b[0m\u001b[0m\n\u001b[1;32m    100\u001b[0m     \u001b[0;32mif\u001b[0m \u001b[0mreply\u001b[0m \u001b[0;34m==\u001b[0m \u001b[0m_NOT_READY\u001b[0m \u001b[0;32mor\u001b[0m \u001b[0;32mnot\u001b[0m \u001b[0misinstance\u001b[0m\u001b[0;34m(\u001b[0m\u001b[0mreply\u001b[0m\u001b[0;34m,\u001b[0m \u001b[0mdict\u001b[0m\u001b[0;34m)\u001b[0m\u001b[0;34m:\u001b[0m\u001b[0;34m\u001b[0m\u001b[0;34m\u001b[0m\u001b[0m\n\u001b[0;32m--> 101\u001b[0;31m       \u001b[0mtime\u001b[0m\u001b[0;34m.\u001b[0m\u001b[0msleep\u001b[0m\u001b[0;34m(\u001b[0m\u001b[0;36m0.025\u001b[0m\u001b[0;34m)\u001b[0m\u001b[0;34m\u001b[0m\u001b[0;34m\u001b[0m\u001b[0m\n\u001b[0m\u001b[1;32m    102\u001b[0m       \u001b[0;32mcontinue\u001b[0m\u001b[0;34m\u001b[0m\u001b[0;34m\u001b[0m\u001b[0m\n\u001b[1;32m    103\u001b[0m     if (reply.get('type') == 'colab_reply' and\n",
            "\u001b[0;31mKeyboardInterrupt\u001b[0m: "
          ]
        }
      ]
    },
    {
      "cell_type": "markdown",
      "metadata": {
        "id": "3WN-aI0aaI6r"
      },
      "source": [
        "## **Carga de ficheros con datos ya procesados**"
      ]
    },
    {
      "cell_type": "code",
      "metadata": {
        "id": "cU30lwHVAlpY"
      },
      "source": [
        "def downloadCSV(id, nameFile):\n",
        "\n",
        "  downloaded = drive.CreateFile({'id':id}) \n",
        "  downloaded.GetContentFile(nameFile)  \n",
        "\n",
        "# The shareable link global_data.csv\n",
        "id = '1o0SW8ul_x7Tv-5PZPCCLLTqUN72thnlZ' \n",
        "downloadCSV(id, 'global_data.csv')\n",
        "\n",
        "# The shareable link local_data.csv\n",
        "id = '1MqgQuGlskv2JuGwQs6Dm1bYk6psxquSw' \n",
        "downloadCSV(id, 'local_data.csv')\n",
        "\n",
        "# The shareable link stellar_parameters.csv\n",
        "id = '1_LH1_QQSEnrDc5yqu56ZK778y0sicsWo' \n",
        "downloadCSV(id, 'stellar_parameters.csv')"
      ],
      "execution_count": null,
      "outputs": []
    },
    {
      "cell_type": "code",
      "metadata": {
        "id": "Pwe91hTmZ6ke"
      },
      "source": [
        "# global_data = pd.read_csv(\"C:/Users/ilaguna/Desktop/global.csv\")\n",
        "# local_data = pd.read_csv(\"C:/Users/ilaguna/Desktop/local.csv\")\n",
        "# stellar_params = pd.read_csv(\"C:/Users/ilaguna/Desktop/stellar_parameter.csv\")\n",
        "global_data = pd.read_csv(\"global_data_cleaned.csv\", sep=',').astype(np.float32)\n",
        "local_data = pd.read_csv(\"local_data_cleaned.csv\", sep=',').astype(np.float32)\n",
        "stellar_params = pd.read_csv(\"stellar_parameters_data_cleaned.csv\", sep=',').astype(np.float32)"
      ],
      "execution_count": 7,
      "outputs": []
    },
    {
      "cell_type": "markdown",
      "metadata": {
        "id": "icBWoSwysNdF"
      },
      "source": [
        "## **Generación de conjuntos de entrenamiento y test**"
      ]
    },
    {
      "cell_type": "code",
      "metadata": {
        "id": "-TW1GcmJsVbr",
        "outputId": "e04d2e1d-5258-4199-be95-c454f9f808df",
        "colab": {
          "base_uri": "https://localhost:8080/"
        }
      },
      "source": [
        "# Datasets de entrenamiento y test\n",
        "xl_train, xl_test, yl_train, yl_test = train_test_split(local_data.iloc[:,4:], local_data.iloc[:,3], test_size=0.2, random_state=11)\n",
        "xg_train, xg_test, yg_train, yg_test = train_test_split(global_data.iloc[:,4:], global_data.iloc[:,3], test_size=0.2, random_state=11)\n",
        "xs_train, xs_test, ys_train, ys_test = train_test_split(stellar_params.iloc[:,4:], stellar_params.iloc[:,3], test_size=0.2, random_state=11)\n",
        "print(type(xl_train))\n",
        "print(type(xg_train))\n",
        "print(type(xs_train))\n",
        "print(type(yl_train))\n",
        "print(xl_train.shape)\n",
        "print(xg_train.shape)\n",
        "print(xs_train.shape)\n",
        "print(yl_train.shape)\n",
        "print(yg_train.shape)\n",
        "print(ys_train.shape)"
      ],
      "execution_count": 8,
      "outputs": [
        {
          "output_type": "stream",
          "text": [
            "<class 'pandas.core.frame.DataFrame'>\n",
            "<class 'pandas.core.frame.DataFrame'>\n",
            "<class 'pandas.core.frame.DataFrame'>\n",
            "<class 'pandas.core.series.Series'>\n",
            "(1769, 101)\n",
            "(1769, 1001)\n",
            "(1769, 4)\n",
            "(1769,)\n",
            "(1769,)\n",
            "(1769,)\n"
          ],
          "name": "stdout"
        }
      ]
    },
    {
      "cell_type": "markdown",
      "metadata": {
        "id": "zVmC2kUlsV_b"
      },
      "source": [
        "## **Dimensiones**"
      ]
    },
    {
      "cell_type": "code",
      "metadata": {
        "id": "g0unxjKYsdvo"
      },
      "source": [
        "# Definicion de dimensiones\n",
        "n_outputs = 1\n",
        "nL_timesteps, nL_features  = xl_train.shape[0], xl_train.shape[1]\n",
        "nG_timesteps, nG_features  = xg_train.shape[0], xg_train.shape[1]\n",
        "nS_timesteps, nS_features  = xs_train.shape[0], xs_train.shape[1]"
      ],
      "execution_count": 9,
      "outputs": []
    },
    {
      "cell_type": "code",
      "metadata": {
        "id": "S2R8sroJnj9g",
        "outputId": "a289fff7-e5f6-473b-e6f4-dc415e298673",
        "colab": {
          "base_uri": "https://localhost:8080/"
        }
      },
      "source": [
        "# Expansion de dimensiones de train\n",
        "xle_train = np.expand_dims(xl_train,axis=-1) \n",
        "yle_train = np.array(yl_train) \n",
        "xge_train = np.expand_dims(xg_train,axis=-1)\n",
        "yge_train = np.array(yg_train)\n",
        "xse_train = np.expand_dims(xs_train,axis=-1)\n",
        "yse_train = np.array(ys_train)\n",
        "print(type(xl_train))\n",
        "print(type(xg_train))\n",
        "print(type(xs_train))\n",
        "print(type(yl_train))\n",
        "print(xl_train.shape)\n",
        "print(xg_train.shape)\n",
        "print(xs_train.shape)\n",
        "print(yl_train.shape)\n",
        "print(yg_train.shape)\n",
        "print(ys_train.shape)"
      ],
      "execution_count": 10,
      "outputs": [
        {
          "output_type": "stream",
          "text": [
            "<class 'pandas.core.frame.DataFrame'>\n",
            "<class 'pandas.core.frame.DataFrame'>\n",
            "<class 'pandas.core.frame.DataFrame'>\n",
            "<class 'pandas.core.series.Series'>\n",
            "(1769, 101)\n",
            "(1769, 1001)\n",
            "(1769, 4)\n",
            "(1769,)\n",
            "(1769,)\n",
            "(1769,)\n"
          ],
          "name": "stdout"
        }
      ]
    },
    {
      "cell_type": "code",
      "metadata": {
        "id": "7DUSlOg6noxG",
        "outputId": "1923b467-69e5-4973-d315-b938e65aec51",
        "colab": {
          "base_uri": "https://localhost:8080/"
        }
      },
      "source": [
        "# Expansion de dimensiones de test\n",
        "xle_test = np.expand_dims(xl_test,axis=-1)\n",
        "yle_test = np.array(yl_test) \n",
        "xge_test = np.expand_dims(xg_test,axis=-1)\n",
        "yge_test = np.array(yg_test)\n",
        "xse_test = np.expand_dims(xs_test,axis=-1)\n",
        "yse_test = np.array(ys_test)\n",
        "print(type(xle_test))\n",
        "print(type(yle_test))\n",
        "print(type(xge_test))\n",
        "print(type(yge_test))\n",
        "print(xle_test.shape)\n",
        "print(xge_test.shape)\n",
        "print(xse_test.shape)\n",
        "print(yle_test.shape)\n",
        "print(yge_test.shape)\n",
        "print(yse_test.shape)"
      ],
      "execution_count": 11,
      "outputs": [
        {
          "output_type": "stream",
          "text": [
            "<class 'numpy.ndarray'>\n",
            "<class 'numpy.ndarray'>\n",
            "<class 'numpy.ndarray'>\n",
            "<class 'numpy.ndarray'>\n",
            "(443, 101, 1)\n",
            "(443, 1001, 1)\n",
            "(443, 4, 1)\n",
            "(443,)\n",
            "(443,)\n",
            "(443,)\n"
          ],
          "name": "stdout"
        }
      ]
    },
    {
      "cell_type": "markdown",
      "metadata": {
        "id": "VAg3ITqIseep"
      },
      "source": [
        "## **Arquitectura CNN**"
      ]
    },
    {
      "cell_type": "code",
      "metadata": {
        "id": "COhubu6esj1g",
        "outputId": "b23f0adf-40a9-415b-b938-76e4d1367d38",
        "colab": {
          "base_uri": "https://localhost:8080/"
        }
      },
      "source": [
        "# Multiple Inputs\n",
        "\n",
        "# first input model\n",
        "inputLocalView = Input(shape=(nL_features, 1))\n",
        "inputLocalView.set_shape([nL_timesteps, nL_features, 1])\n",
        "print(inputLocalView)\n",
        "\n",
        "CL1 = Conv1D(filters=16, kernel_size=4, activation='relu')(inputLocalView)\n",
        "CL2 = Conv1D(filters=16, kernel_size=4, activation='relu')(CL1)\n",
        "\n",
        "ML1 = MaxPooling1D(pool_size=7, strides=2)(CL2)\n",
        "\n",
        "CL3 = Conv1D(filters=32, kernel_size=4, activation='relu')(ML1)\n",
        "CL4 = Conv1D(filters=32, kernel_size=4, activation='relu')(CL3)\n",
        "\n",
        "ML2 = MaxPooling1D(pool_size=7, strides=2)(CL4)\n",
        "flat1 = Flatten()(ML2)\n",
        "\n",
        "# second input model\n",
        "inputGlobalView = Input(shape=(nG_features, 1))\n",
        "inputGlobalView.set_shape([nG_timesteps, nG_features, 1])\n",
        "\n",
        "CG1 = Conv1D(filters=16, kernel_size=4, activation='relu')(inputGlobalView)\n",
        "CG2 = Conv1D(filters=16, kernel_size=4, activation='relu')(CG1)\n",
        "CG3 = Conv1D(filters=16, kernel_size=4, activation='relu')(CG2)\n",
        "CG4 = Conv1D(filters=16, kernel_size=4, activation='relu')(CG3)\n",
        "\n",
        "MG1 = MaxPooling1D(pool_size=3, strides=2)(CG4)\n",
        "\n",
        "CG3 = Conv1D(filters=32, kernel_size=4, activation='relu')(MG1)\n",
        "CG4 = Conv1D(filters=32, kernel_size=4, activation='relu')(CG3)\n",
        "CG5 = Conv1D(filters=32, kernel_size=4, activation='relu')(CG4)\n",
        "\n",
        "MG2 = MaxPooling1D(pool_size=2, strides=2)(CG5)\n",
        "\n",
        "CG5 = Conv1D(filters=64, kernel_size=4, activation='relu')(MG2)\n",
        "CG6 = Conv1D(filters=64, kernel_size=4, activation='relu')(CG5)\n",
        "CG7 = Conv1D(filters=64, kernel_size=4, activation='relu')(CG6)\n",
        "\n",
        "MG3 = MaxPooling1D(pool_size=2, strides=2)(CG7)\n",
        "\n",
        "CG7 = Conv1D(filters=128, kernel_size=3, activation='relu')(MG3)\n",
        "CG8 = Conv1D(filters=128, kernel_size=3, activation='relu')(CG7)\n",
        "CG9 = Conv1D(filters=128, kernel_size=3, activation='relu')(CG8)\n",
        "\n",
        "MG4 = MaxPooling1D(pool_size=2, strides=2)(CG9)\n",
        "flat2 = Flatten()(MG4)\n",
        "\n",
        "# third input model\n",
        "StellarParam6PInput = Input(shape=(nS_features, 1))\n",
        "StellarParam6PInput.set_shape([nS_timesteps, nS_features, 1])\n",
        "\n",
        "#StellarParamsPInput=(nS_features,1)\n",
        "flat3 = Flatten()(StellarParam6PInput)\n",
        "\n",
        "# merge input models\n",
        "merge = concatenate([flat1, flat2, flat3])\n",
        "\n",
        "# interpretation model\n",
        "hidden1 = Dense(512, activation='relu')(merge)\n",
        "hidden2 = Dense(512, activation='relu')(hidden1)\n",
        "hidden3 = Dense(512, activation='relu')(hidden2)\n",
        "hidden4 = Dense(512, activation='relu')(hidden3)\n",
        "output = Dense(n_outputs, activation='tanh')(hidden4)\n",
        "model = Model(inputs=[inputLocalView, inputGlobalView, StellarParam6PInput], outputs=output)\n",
        "\n",
        "model.compile(loss='binary_crossentropy', optimizer='adam', metrics=['accuracy'])\n",
        "print(model.summary())"
      ],
      "execution_count": 12,
      "outputs": [
        {
          "output_type": "stream",
          "text": [
            "Tensor(\"input_1:0\", shape=(1769, 101, 1), dtype=float32)\n",
            "Model: \"functional_1\"\n",
            "__________________________________________________________________________________________________\n",
            "Layer (type)                    Output Shape         Param #     Connected to                     \n",
            "==================================================================================================\n",
            "input_2 (InputLayer)            [(1769, 1001, 1)]    0                                            \n",
            "__________________________________________________________________________________________________\n",
            "conv1d_4 (Conv1D)               (1769, 998, 16)      80          input_2[0][0]                    \n",
            "__________________________________________________________________________________________________\n",
            "conv1d_5 (Conv1D)               (1769, 995, 16)      1040        conv1d_4[0][0]                   \n",
            "__________________________________________________________________________________________________\n",
            "conv1d_6 (Conv1D)               (1769, 992, 16)      1040        conv1d_5[0][0]                   \n",
            "__________________________________________________________________________________________________\n",
            "conv1d_7 (Conv1D)               (1769, 989, 16)      1040        conv1d_6[0][0]                   \n",
            "__________________________________________________________________________________________________\n",
            "max_pooling1d_2 (MaxPooling1D)  (1769, 494, 16)      0           conv1d_7[0][0]                   \n",
            "__________________________________________________________________________________________________\n",
            "conv1d_8 (Conv1D)               (1769, 491, 32)      2080        max_pooling1d_2[0][0]            \n",
            "__________________________________________________________________________________________________\n",
            "conv1d_9 (Conv1D)               (1769, 488, 32)      4128        conv1d_8[0][0]                   \n",
            "__________________________________________________________________________________________________\n",
            "conv1d_10 (Conv1D)              (1769, 485, 32)      4128        conv1d_9[0][0]                   \n",
            "__________________________________________________________________________________________________\n",
            "max_pooling1d_3 (MaxPooling1D)  (1769, 242, 32)      0           conv1d_10[0][0]                  \n",
            "__________________________________________________________________________________________________\n",
            "conv1d_11 (Conv1D)              (1769, 239, 64)      8256        max_pooling1d_3[0][0]            \n",
            "__________________________________________________________________________________________________\n",
            "input_1 (InputLayer)            [(1769, 101, 1)]     0                                            \n",
            "__________________________________________________________________________________________________\n",
            "conv1d_12 (Conv1D)              (1769, 236, 64)      16448       conv1d_11[0][0]                  \n",
            "__________________________________________________________________________________________________\n",
            "conv1d (Conv1D)                 (1769, 98, 16)       80          input_1[0][0]                    \n",
            "__________________________________________________________________________________________________\n",
            "conv1d_13 (Conv1D)              (1769, 233, 64)      16448       conv1d_12[0][0]                  \n",
            "__________________________________________________________________________________________________\n",
            "conv1d_1 (Conv1D)               (1769, 95, 16)       1040        conv1d[0][0]                     \n",
            "__________________________________________________________________________________________________\n",
            "max_pooling1d_4 (MaxPooling1D)  (1769, 116, 64)      0           conv1d_13[0][0]                  \n",
            "__________________________________________________________________________________________________\n",
            "max_pooling1d (MaxPooling1D)    (1769, 45, 16)       0           conv1d_1[0][0]                   \n",
            "__________________________________________________________________________________________________\n",
            "conv1d_14 (Conv1D)              (1769, 114, 128)     24704       max_pooling1d_4[0][0]            \n",
            "__________________________________________________________________________________________________\n",
            "conv1d_2 (Conv1D)               (1769, 42, 32)       2080        max_pooling1d[0][0]              \n",
            "__________________________________________________________________________________________________\n",
            "conv1d_15 (Conv1D)              (1769, 112, 128)     49280       conv1d_14[0][0]                  \n",
            "__________________________________________________________________________________________________\n",
            "conv1d_3 (Conv1D)               (1769, 39, 32)       4128        conv1d_2[0][0]                   \n",
            "__________________________________________________________________________________________________\n",
            "conv1d_16 (Conv1D)              (1769, 110, 128)     49280       conv1d_15[0][0]                  \n",
            "__________________________________________________________________________________________________\n",
            "max_pooling1d_1 (MaxPooling1D)  (1769, 17, 32)       0           conv1d_3[0][0]                   \n",
            "__________________________________________________________________________________________________\n",
            "max_pooling1d_5 (MaxPooling1D)  (1769, 55, 128)      0           conv1d_16[0][0]                  \n",
            "__________________________________________________________________________________________________\n",
            "input_3 (InputLayer)            [(1769, 4, 1)]       0                                            \n",
            "__________________________________________________________________________________________________\n",
            "flatten (Flatten)               (1769, 544)          0           max_pooling1d_1[0][0]            \n",
            "__________________________________________________________________________________________________\n",
            "flatten_1 (Flatten)             (1769, 7040)         0           max_pooling1d_5[0][0]            \n",
            "__________________________________________________________________________________________________\n",
            "flatten_2 (Flatten)             (1769, 4)            0           input_3[0][0]                    \n",
            "__________________________________________________________________________________________________\n",
            "concatenate (Concatenate)       (1769, 7588)         0           flatten[0][0]                    \n",
            "                                                                 flatten_1[0][0]                  \n",
            "                                                                 flatten_2[0][0]                  \n",
            "__________________________________________________________________________________________________\n",
            "dense (Dense)                   (1769, 512)          3885568     concatenate[0][0]                \n",
            "__________________________________________________________________________________________________\n",
            "dense_1 (Dense)                 (1769, 512)          262656      dense[0][0]                      \n",
            "__________________________________________________________________________________________________\n",
            "dense_2 (Dense)                 (1769, 512)          262656      dense_1[0][0]                    \n",
            "__________________________________________________________________________________________________\n",
            "dense_3 (Dense)                 (1769, 512)          262656      dense_2[0][0]                    \n",
            "__________________________________________________________________________________________________\n",
            "dense_4 (Dense)                 (1769, 1)            513         dense_3[0][0]                    \n",
            "==================================================================================================\n",
            "Total params: 4,859,329\n",
            "Trainable params: 4,859,329\n",
            "Non-trainable params: 0\n",
            "__________________________________________________________________________________________________\n",
            "None\n"
          ],
          "name": "stdout"
        }
      ]
    },
    {
      "cell_type": "markdown",
      "metadata": {
        "id": "0FS7jswOsoqC"
      },
      "source": [
        "## **Entrenamiento**"
      ]
    },
    {
      "cell_type": "code",
      "metadata": {
        "id": "-73kt1XBDcAp",
        "outputId": "3cfbc53b-b920-4bb6-9664-ffe37f953424",
        "colab": {
          "base_uri": "https://localhost:8080/"
        }
      },
      "source": [
        "temp = '12.064.498.968.010.100'\n",
        "floatVariable = float(temp)\n",
        "\n",
        "print(type(floatVariable))\n",
        "print('Float Value =', floatVariable)"
      ],
      "execution_count": null,
      "outputs": [
        {
          "output_type": "stream",
          "text": [
            "<class 'float'>\n",
            "Float Value = 12.064\n"
          ],
          "name": "stdout"
        }
      ]
    },
    {
      "cell_type": "code",
      "metadata": {
        "id": "M6pdUrfesw54",
        "outputId": "53bd3351-03c6-440e-dc49-94e8465c9b78",
        "colab": {
          "base_uri": "https://localhost:8080/"
        }
      },
      "source": [
        "# Fit \n",
        "# [print(i.shape, i.dtype) for i in model.inputs]\n",
        "# [print(o.shape, o.dtype) for o in model.outputs]\n",
        "# [print(l.name, l.input_shape, l.dtype) for l in model.layers]\n",
        "\n",
        "# xle_train = np.asarray(xle_train).astype(np.float32)\n",
        "# xge_train = np.asarray(xge_train).astype(np.float32)\n",
        "# xse_train = np.asarray(xse_train).astype(np.float32)\n",
        "# yle_train = np.asarray(yle_train).astype(np.float32)\n",
        "# yge_train = np.asarray(yge_train).astype(np.float32)\n",
        "# yse_train = np.asarray(yse_train).astype(np.float32)\n",
        "\n",
        "# from keras import backend as K\n",
        "# xle_train = K.cast_to_floatx(xle_train)\n",
        "# xge_train = K.cast_to_floatx(xge_train)\n",
        "# xse_train = K.cast_to_floatx(xse_train)\n",
        "# yle_train = K.cast_to_floatx(yle_train)\n",
        "\n",
        "train = model.fit([xle_train, xge_train, xse_train], yle_train, epochs=5, batch_size=1769)"
      ],
      "execution_count": 14,
      "outputs": [
        {
          "output_type": "stream",
          "text": [
            "Epoch 1/5\n",
            "1/1 [==============================] - 0s 1ms/step - loss: 8.9201 - accuracy: 0.4217\n",
            "Epoch 2/5\n",
            "1/1 [==============================] - 0s 2ms/step - loss: 8.9201 - accuracy: 0.4217\n",
            "Epoch 3/5\n",
            "1/1 [==============================] - 0s 1ms/step - loss: 8.9201 - accuracy: 0.4217\n",
            "Epoch 4/5\n",
            "1/1 [==============================] - 0s 1ms/step - loss: 8.9201 - accuracy: 0.4217\n",
            "Epoch 5/5\n",
            "1/1 [==============================] - 0s 1ms/step - loss: 8.9201 - accuracy: 0.4217\n"
          ],
          "name": "stdout"
        }
      ]
    },
    {
      "cell_type": "markdown",
      "metadata": {
        "id": "1MN5obh1sxW_"
      },
      "source": [
        "## **Obtención de métricas**"
      ]
    },
    {
      "cell_type": "code",
      "metadata": {
        "id": "hzp9gtYJs0l4",
        "outputId": "bd4c18d7-0ac3-4676-bf48-f657f082c19e",
        "colab": {
          "base_uri": "https://localhost:8080/"
        }
      },
      "source": [
        "y_pred_keras = model.predict([xle_test, xge_test, xse_test]).ravel()\n",
        "fpr_keras, tpr_keras, thresholds_keras = roc_curve(yle_test, y_pred_keras)\n",
        "auc_keras = auc(fpr_keras, tpr_keras)\n",
        "gmeans = np.sqrt(tpr_keras * (1-fpr_keras))\n",
        "\n",
        "# localiza el índice del mayor g-mean\n",
        "ix = argmax(gmeans)\n",
        "print('Best Threshold=%f, G-Mean=%.3f' % (thresholds_keras[ix], gmeans[ix]))"
      ],
      "execution_count": 15,
      "outputs": [
        {
          "output_type": "stream",
          "text": [
            "Best Threshold=-0.015711, G-Mean=0.520\n"
          ],
          "name": "stdout"
        }
      ]
    },
    {
      "cell_type": "code",
      "metadata": {
        "id": "1xE0Oi9EUIzC",
        "outputId": "96cbcc4a-e04b-4297-b51c-c6bfab7aa0d4",
        "colab": {
          "base_uri": "https://localhost:8080/"
        }
      },
      "source": [
        "# Umbral estándar\n",
        "labels_Standart = (y_pred_keras >= 0.5).astype(np.int)\n",
        "PhiM_Standart = matthews_corrcoef(yle_test, labels_Standart)\n",
        "Matrix_Standart = confusion_matrix(yle_test, labels_Standart)\n",
        "\n",
        "# Mostramos métricas\n",
        "auc_keras, PhiM_Standart, print(Matrix_Standart)"
      ],
      "execution_count": 16,
      "outputs": [
        {
          "output_type": "stream",
          "text": [
            "[[185   0]\n",
            " [258   0]]\n"
          ],
          "name": "stdout"
        },
        {
          "output_type": "stream",
          "text": [
            "/usr/local/lib/python3.6/dist-packages/sklearn/metrics/_classification.py:900: RuntimeWarning: invalid value encountered in double_scalars\n",
            "  mcc = cov_ytyp / np.sqrt(cov_ytyt * cov_ypyp)\n"
          ],
          "name": "stderr"
        },
        {
          "output_type": "execute_result",
          "data": {
            "text/plain": [
              "(0.5158809972763461, 0.0, None)"
            ]
          },
          "metadata": {
            "tags": []
          },
          "execution_count": 16
        }
      ]
    },
    {
      "cell_type": "code",
      "metadata": {
        "id": "MoKd-UF6UfYJ"
      },
      "source": [
        "# Umbral OPT\n",
        "labels_OPT =(y_pred_keras >= thresholds_keras[ix]).astype(np.int)\n",
        "PhiCoeff_OPT = matthews_corrcoef(yle_test, labels_OPT)\n",
        "Matrix_OPT = confusion_matrix(yle_test, labels_OPT)\n",
        "F_Measure_OPT = f1_score(yle_test, labels_OPT, average='binary')\n",
        "Accuracy_OPT= accuracy_score(yle_test, labels_OPT, normalize=True)\n",
        "Recall_OPT= recall_score(yle_test, labels_OPT, average=None)\n",
        "Average_precision_OPT= average_precision_score(yle_test, labels_OPT)"
      ],
      "execution_count": 17,
      "outputs": []
    },
    {
      "cell_type": "code",
      "metadata": {
        "id": "DnZbFhuxUidI",
        "outputId": "95355752-dd82-4366-8654-383e32a5c2ca",
        "colab": {
          "base_uri": "https://localhost:8080/"
        }
      },
      "source": [
        "# Mostramos las métricas\n",
        "print(\"AUC:\", auc_keras)\n",
        "print(\"F_Measure:\", F_Measure_OPT)\n",
        "print(\"PhiCoeff:\", PhiCoeff_OPT)\n",
        "print(\"Average_precision:\", Average_precision_OPT)\n",
        "print(\"Accuracy:\", Accuracy_OPT)\n",
        "print(\"Recall:\", Recall_OPT)\n",
        "print(\"Matriz de confusión:\")\n",
        "print( Matrix_OPT)"
      ],
      "execution_count": 19,
      "outputs": [
        {
          "output_type": "stream",
          "text": [
            "AUC: 0.5158809972763461\n",
            "F_Measure: 0.5811623246492986\n",
            "PhiCoeff: 0.04267311719956864\n",
            "Average_precision: 0.5932211149131521\n",
            "Accuracy: 0.5282167042889391\n",
            "Recall: [0.48108108 0.5620155 ]\n",
            "Matriz de confusión:\n",
            "[[ 89  96]\n",
            " [113 145]]\n"
          ],
          "name": "stdout"
        }
      ]
    },
    {
      "cell_type": "code",
      "metadata": {
        "id": "hT5IQQ5lUrU_",
        "outputId": "416a0ae8-6f64-4e37-a990-c7ade14848df",
        "colab": {
          "base_uri": "https://localhost:8080/",
          "height": 279
        }
      },
      "source": [
        "# Ploteo la matrix de confusión\n",
        "import seaborn as sn\n",
        "df_cm = pd.DataFrame(Matrix_OPT, index = [i for i in \"01\"],\n",
        "                  columns = [i for i in \"01\"])\n",
        "\n",
        "plt.figure(0.5)\n",
        "heat_map = sn.heatmap(df_cm, xticklabels=True, yticklabels=True, annot=True, annot_kws = {\"ha\": 'center',\"va\": 'bottom'},cbar=False)\n",
        "plt.xlabel('Predicted')\n",
        "plt.ylabel('Actual')\n",
        "\n",
        "for text in heat_map.texts:\n",
        "    text.set_size(14)\n",
        "    text.set_weight('bold')\n",
        "    if text.get_text() == '5':\n",
        "        text.set_color('black')"
      ],
      "execution_count": 20,
      "outputs": [
        {
          "output_type": "display_data",
          "data": {
            "image/png": "[encoded data removed]",
            "text/plain": [
              "<Figure size 432x288 with 1 Axes>"
            ]
          },
          "metadata": {
            "tags": [],
            "needs_background": "light"
          }
        }
      ]
    },
    {
      "cell_type": "code",
      "metadata": {
        "id": "YGtOlu6ZU0mr",
        "outputId": "c1d1f5e5-b88a-4545-9e9d-c2c66dab96eb",
        "colab": {
          "base_uri": "https://localhost:8080/",
          "height": 312
        }
      },
      "source": [
        "import matplotlib.pyplot as plt\n",
        "plt.figure(1)\n",
        "plt.plot([0, 1], [0, 1], 'k--')\n",
        "plt.plot(fpr_keras, tpr_keras, label='CNN (area = {:.3f})'.format(auc_keras))\n",
        "plt.scatter(fpr_keras[ix], tpr_keras[ix], marker='o', color='black', label='Best')\n",
        "plt.xlabel('False positive rate')\n",
        "plt.ylabel('True positive rate')\n",
        "plt.title('ROC curve')\n",
        "plt.legend(loc='best')"
      ],
      "execution_count": 21,
      "outputs": [
        {
          "output_type": "execute_result",
          "data": {
            "text/plain": [
              "<matplotlib.legend.Legend at 0x7f14a4066ef0>"
            ]
          },
          "metadata": {
            "tags": []
          },
          "execution_count": 21
        },
        {
          "output_type": "display_data",
          "data": {
            "image/png": "[encoded data removed]",
            "text/plain": [
              "<Figure size 432x288 with 1 Axes>"
            ]
          },
          "metadata": {
            "tags": [],
            "needs_background": "light"
          }
        }
      ]
    },
    {
      "cell_type": "markdown",
      "metadata": {
        "id": "pPAmFQixs0xm"
      },
      "source": [
        "## **Validación**"
      ]
    },
    {
      "cell_type": "code",
      "metadata": {
        "id": "zrMCXzIas4g4",
        "outputId": "a3ed0a6c-f44a-4387-b508-f2f02fd40834",
        "colab": {
          "base_uri": "https://localhost:8080/"
        }
      },
      "source": [
        "y_pred_keras_tot = np.array([])\n",
        "y_pred_rf_tot = np.array([])\n",
        "y_test_total = np.array([])\n",
        "\n",
        "xl_train, xl_test, yl_train, yl_test = train_test_split(local_data.iloc[:,4:], local_data.iloc[:,3], test_size=0.3, random_state=11)\n",
        "xg_train, xg_test, yg_train, yg_test = train_test_split(global_data.iloc[:,4:], global_data.iloc[:,3], test_size=0.3, random_state=11)\n",
        "xs_train, xs_test, ys_train, ys_test = train_test_split(stellar_params.iloc[:,4:], stellar_params.iloc[:,3], test_size=0.3, random_state=11)\n",
        "   \n",
        "# Definimos las dimensiones\n",
        "n_outputs = 1\n",
        "nL_timesteps, nL_features  = xl_train.shape[0], xl_train.shape[1]\n",
        "nG_timesteps, nG_features  = xg_train.shape[0], xg_train.shape[1]\n",
        "nS_timesteps, nS_features  = xs_train.shape[0], xs_train.shape[1]\n",
        "      \n",
        "# Expandimos las dimensiones\n",
        "xle_train = np.expand_dims(xl_train,axis=-1) # axis=-3 para que se adapte a la forma del tensor\n",
        "yle_train = np.array(yl_train) # Hay que trasponer \n",
        "xge_train = np.expand_dims(xg_train,axis=-1)\n",
        "yge_train = np.array(yg_train)\n",
        "xse_train = np.expand_dims(xs_train,axis=-1)\n",
        "yse_train = np.array(ys_train)\n",
        "    \n",
        "# Multiple Inputs\n",
        "\n",
        "# first input model\n",
        "inputLocalView = Input(shape=(nL_features, 1))\n",
        "inputLocalView.set_shape([nL_timesteps, nL_features, 1])\n",
        "\n",
        "CL1 = Conv1D(filters=16, kernel_size=5, activation='relu')(inputLocalView)\n",
        "CL2 = Conv1D(filters=16, kernel_size=5, activation='relu')(CL1)\n",
        "\n",
        "ML1 = MaxPooling1D(pool_size=7, strides=2)(CL2)\n",
        "\n",
        "CL3 = Conv1D(filters=32, kernel_size=5, activation='relu')(ML1)\n",
        "CL4 = Conv1D(filters=32, kernel_size=5, activation='relu')(CL3)\n",
        "\n",
        "ML2 = MaxPooling1D(pool_size=7, strides=2)(CL4)\n",
        "flat1 = Flatten()(ML2)\n",
        "\n",
        "# second input model\n",
        "\n",
        "inputGlobalView = Input(shape=(nG_features, 1))\n",
        "inputGlobalView.set_shape([nG_timesteps, nG_features, 1])\n",
        "\n",
        "CG1 = Conv1D(filters=16, kernel_size=5, activation='relu')(inputGlobalView)\n",
        "CG2 = Conv1D(filters=16, kernel_size=5, activation='relu')(CG1)\n",
        "\n",
        "MG1 = MaxPooling1D(pool_size=3, strides=2)(CG2)\n",
        "\n",
        "CG3 = Conv1D(filters=32, kernel_size=5, activation='relu')(MG1)\n",
        "CG4 = Conv1D(filters=32, kernel_size=5, activation='relu')(CG3)\n",
        "\n",
        "MG2 = MaxPooling1D(pool_size=2, strides=2)(CG4)\n",
        "\n",
        "CG5 = Conv1D(filters=64, kernel_size=5, activation='relu')(MG2)\n",
        "CG6 = Conv1D(filters=64, kernel_size=5, activation='relu')(CG5)\n",
        "\n",
        "MG3 = MaxPooling1D(pool_size=2, strides=2)(CG6)\n",
        "\n",
        "CG7 = Conv1D(filters=128, kernel_size=3, activation='relu')(MG3)\n",
        "CG8 = Conv1D(filters=128, kernel_size=3, activation='relu')(CG7)\n",
        "\n",
        "MG4 = MaxPooling1D(pool_size=2, strides=2)(CG8)\n",
        "\n",
        "flat2 = Flatten()(MG4)\n",
        "\n",
        "# third input model\n",
        "\n",
        "StellarParam6PInput = Input(shape=(nS_features, 1))\n",
        "StellarParam6PInput.set_shape([nS_timesteps, nS_features, 1])\n",
        "\n",
        "# StellarParam6PInput=(nS_features,1)\n",
        "flat3 = Flatten()(StellarParam6PInput)\n",
        "# merge input models\n",
        "merge = concatenate([flat1, flat2, flat3])\n",
        "\n",
        "# interpretation model\n",
        "hidden1 = Dense(256, activation='relu')(merge)\n",
        "hidden2 = Dense(256, activation='relu')(hidden1)\n",
        "hidden3 = Dense(256, activation='relu')(hidden2)\n",
        "hidden4 = Dense(256, activation='relu')(hidden3)\n",
        "#2output = Dense(n_outputs, activation='tanh')(hidden4)\n",
        "output = Dense(n_outputs, activation='tanh')(hidden4)\n",
        "model = Model(inputs=[inputLocalView, inputGlobalView,StellarParam6PInput], outputs=output)\n",
        "#loss='binary_crossentropy', optimizer='adam', metrics=['accuracy', 'ce']\n",
        "model.compile(loss='binary_crossentropy', optimizer='adadelta', metrics=['accuracy'])\n",
        "    #loss_weights=['main_output': 1., 'aux_output': 0.2]) por si queremos darles pesos diferentes\n",
        "\n",
        "batch_size=1769\n",
        "\n",
        "#Aumento número de muestras\n",
        "for i in range(10):\n",
        "    print(i)\n",
        "\n",
        "    # Divido entre entrenamiento y test\n",
        "    xl_train, xl_test, yl_train, yl_test = train_test_split(local_data.iloc[:,4:], local_data.iloc[:,3], test_size=0.2, random_state=11+i)\n",
        "    xg_train, xg_test, yg_train, yg_test = train_test_split(global_data.iloc[:,4:], global_data.iloc[:,3], test_size=0.2, random_state=11+i)\n",
        "    xs_train, xs_test, ys_train, ys_test = train_test_split(stellar_params.iloc[:,4:], stellar_params.iloc[:,3], test_size=0.2, random_state=11+i)\n",
        "    \n",
        "    # fit forma 2\n",
        "    FIT = model.fit([xle_train, xge_train, xse_train], yle_train, epochs=50, batch_size=batch_size, verbose=0)\n",
        "    \n",
        "    xle_test = np.expand_dims(xl_test,axis=-1)\n",
        "    yle_test = np.array(yl_test) \n",
        "    xge_test = np.expand_dims(xg_test,axis=-1)\n",
        "    yge_test = np.array(yg_test)\n",
        "    xse_test = np.expand_dims(xs_test,axis=-1)\n",
        "    yse_test = np.array(ys_test)\n",
        "    \n",
        "    # Creo la RoC\n",
        "    y_pred_kerasC = model.predict([xle_test,xge_test,xse_test]).ravel()\n",
        "\n",
        "    #Lleno los vectores totales\n",
        "    y_pred_keras_tot = np.concatenate((y_pred_keras_tot,y_pred_kerasC))\n",
        "    \n",
        "    y_test_total = np.concatenate((y_test_total, yle_test))"
      ],
      "execution_count": 23,
      "outputs": [
        {
          "output_type": "stream",
          "text": [
            "0\n",
            "1\n",
            "2\n",
            "3\n",
            "4\n",
            "5\n",
            "6\n",
            "7\n",
            "8\n",
            "9\n"
          ],
          "name": "stdout"
        }
      ]
    },
    {
      "cell_type": "markdown",
      "metadata": {
        "id": "J9u6Hbrxs5mI"
      },
      "source": [
        "## **Obtención de métricas**"
      ]
    },
    {
      "cell_type": "code",
      "metadata": {
        "id": "xF302S1Ts88e",
        "outputId": "28d15d6b-588a-4a6e-cc7d-beaf5539056e",
        "colab": {
          "base_uri": "https://localhost:8080/"
        }
      },
      "source": [
        "# Defino las métricas\n",
        "\n",
        "fpr_kerasTotal, tpr_kerasTotal, thresholds_kerasTotal = roc_curve(y_test_total, y_pred_keras_tot)\n",
        "auc_kerasTotal = auc(fpr_kerasTotal, tpr_kerasTotal)\n",
        "gmeans = np.sqrt(tpr_kerasTotal * (1-fpr_kerasTotal))\n",
        "\n",
        "# localiza el índice del mayor g-mean\n",
        "ix = argmax(gmeans)\n",
        "print('Best Threshold=%f, G-Mean=%.3f' % (thresholds_kerasTotal[ix], gmeans[ix]))"
      ],
      "execution_count": 24,
      "outputs": [
        {
          "output_type": "stream",
          "text": [
            "Best Threshold=0.102715, G-Mean=0.508\n"
          ],
          "name": "stdout"
        }
      ]
    },
    {
      "cell_type": "code",
      "metadata": {
        "id": "Lj6dkb3NWD-5",
        "outputId": "0cfd6884-e3c4-4ef0-acd2-f675e3a4e21d",
        "colab": {
          "base_uri": "https://localhost:8080/"
        }
      },
      "source": [
        "# Umbral estándar\n",
        "labels_Standart = (y_pred_keras_tot >= 0.5).astype(np.int)\n",
        "PhiCoeff_Standart = matthews_corrcoef(y_test_total, labels_Standart)\n",
        "Matrix_Standart = confusion_matrix(y_test_total, labels_Standart)\n",
        "F_Measure_Standart = f1_score(y_test_total, labels_Standart, average='binary')\n",
        "\n",
        "# Mostramos las métricas\n",
        "auc_kerasTotal, PhiM_Standart,F_Measure_Standart, print(Matrix_Standart)"
      ],
      "execution_count": 25,
      "outputs": [
        {
          "output_type": "stream",
          "text": [
            "[[1816    0]\n",
            " [2610    4]]\n"
          ],
          "name": "stdout"
        },
        {
          "output_type": "execute_result",
          "data": {
            "text/plain": [
              "(0.5093930428832886, 0.0, 0.0030557677616501145, None)"
            ]
          },
          "metadata": {
            "tags": []
          },
          "execution_count": 25
        }
      ]
    },
    {
      "cell_type": "code",
      "metadata": {
        "id": "CBQVISktWG7X"
      },
      "source": [
        "# Umbral OPT\n",
        "labels_OPT =(y_pred_keras_tot >= thresholds_kerasTotal[ix]).astype(np.int)\n",
        "PhiCoeff_OPT = matthews_corrcoef(y_test_total, labels_OPT)\n",
        "Matrix_OPT = confusion_matrix(y_test_total, labels_OPT)\n",
        "F_Measure_OPT = f1_score(y_test_total, labels_OPT, average='binary')\n",
        "Accuracy_OPT= accuracy_score(y_test_total, labels_OPT, normalize=True)\n",
        "Recall_OPT= recall_score(y_test_total, labels_OPT, average=None)\n",
        "Average_precision_OPT= average_precision_score(y_test_total, labels_OPT)"
      ],
      "execution_count": 26,
      "outputs": []
    },
    {
      "cell_type": "code",
      "metadata": {
        "id": "3X7VzgaEWJrX",
        "outputId": "4c9c6470-c083-472c-91b9-6be4646559fb",
        "colab": {
          "base_uri": "https://localhost:8080/"
        }
      },
      "source": [
        "# Imprimo por pantalla las métricas\n",
        "print(\"AUC:\", auc_kerasTotal)\n",
        "print(\"F_Measure:\", F_Measure_OPT)\n",
        "print(\"PhiCoeff:\", PhiCoeff_OPT)\n",
        "print(\"Average_precision:\", Average_precision_OPT)\n",
        "print(\"Accuracy:\", Accuracy_OPT)\n",
        "print(\"Recall:\", Recall_OPT)\n",
        "print(\"Matriz de confusión:\")\n",
        "print( Matrix_OPT)"
      ],
      "execution_count": 27,
      "outputs": [
        {
          "output_type": "stream",
          "text": [
            "AUC: 0.5093930428832886\n",
            "F_Measure: 0.5859772816294554\n",
            "PhiCoeff: 0.023640361563995505\n",
            "Average_precision: 0.5959357183943297\n",
            "Accuracy: 0.5227990970654628\n",
            "Recall: [0.45154185 0.57230298]\n",
            "Matriz de confusión:\n",
            "[[ 820  996]\n",
            " [1118 1496]]\n"
          ],
          "name": "stdout"
        }
      ]
    },
    {
      "cell_type": "code",
      "metadata": {
        "id": "26ZlRCsLWOzO",
        "outputId": "21b1f57f-c593-4339-96b3-791a30988682",
        "colab": {
          "base_uri": "https://localhost:8080/",
          "height": 279
        }
      },
      "source": [
        "# Ploteo la matrix de confusión\n",
        "\n",
        "df_cm_OPT = pd.DataFrame(Matrix_OPT, index = [i for i in \"01\"],\n",
        "                  columns = [i for i in \"01\"])\n",
        "plt.figure(0.5)\n",
        "heat_map = sn.heatmap(df_cm_OPT, xticklabels=True, yticklabels=True, annot=True, fmt='g', annot_kws = {\"ha\": 'center',\"va\": 'bottom'},cbar=False)\n",
        "plt.xlabel('Predicted')\n",
        "plt.ylabel('Actual')\n",
        "\n",
        "for text in heat_map.texts:\n",
        "    text.set_size(14)\n",
        "    text.set_weight('bold')\n",
        "    if text.get_text() == '33':\n",
        "        text.set_color('black')"
      ],
      "execution_count": 28,
      "outputs": [
        {
          "output_type": "display_data",
          "data": {
            "image/png": "[encoded data removed]",
            "text/plain": [
              "<Figure size 432x288 with 1 Axes>"
            ]
          },
          "metadata": {
            "tags": [],
            "needs_background": "light"
          }
        }
      ]
    },
    {
      "cell_type": "code",
      "metadata": {
        "id": "u1-rNokLWSIO",
        "outputId": "e591709d-2600-47d0-ad94-2bd258ce2d33",
        "colab": {
          "base_uri": "https://localhost:8080/",
          "height": 295
        }
      },
      "source": [
        "import matplotlib.pyplot as plt\n",
        "plt.figure(1)\n",
        "plt.plot([0, 1], [0, 1], 'k--')\n",
        "plt.plot(fpr_kerasTotal, tpr_kerasTotal,  color='green', label='Tanh/Adadelta = {:.3f})'.format(auc_kerasTotal))\n",
        "plt.scatter(fpr_kerasTotal[ix], tpr_kerasTotal[ix], marker='o', color='black', label='Best')\n",
        "plt.xlabel('False positive rate')\n",
        "plt.ylabel('True positive rate')\n",
        "plt.title('ROC curve')\n",
        "plt.legend(loc='best')\n",
        "plt.show()"
      ],
      "execution_count": 29,
      "outputs": [
        {
          "output_type": "display_data",
          "data": {
            "image/png": "[encoded data removed]",
            "text/plain": [
              "<Figure size 432x288 with 1 Axes>"
            ]
          },
          "metadata": {
            "tags": [],
            "needs_background": "light"
          }
        }
      ]
    }
  ]
}